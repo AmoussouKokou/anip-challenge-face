{
 "cells": [
  {
   "cell_type": "markdown",
   "id": "09b0f509",
   "metadata": {},
   "source": [
    "# Tâche 1 — Reconnaissance faciale robuste (Notebook unique)\n",
    "\n",
    "Pipeline : lecture → détection/alignement → embeddings (modèle pré-entraîné) → **matching 1-à-1** → **export CSV**.\n"
   ]
  },
  {
   "cell_type": "markdown",
   "id": "c6e1c51b",
   "metadata": {},
   "source": [
    "* Extraction d’embeddings avec un modèle pré-entraîné (InsightFace).  \n",
    "   - Ici, tu ne réentraînes pas le modèle (il est déjà appris sur un énorme dataset, style MS-Celeb, Glint360k, etc.).\n",
    "   - Tu l’utilises comme un extracteur de caractéristiques → image → vecteur 512D.\n",
    "\n",
    "* Création de paires positives/négatives artificielles sur ton split dev.\n",
    "  * Positives : deux images d’un même ID (ex. 0001_0 et 0001_1).\n",
    "  * Négatives : deux images de IDs différents (ex. 0001_0 vs 0002_0).\n",
    "  * C’est toi qui choisis comment générer les négatifs (voisin, aléatoire, multiple…).\n",
    "\n",
    "* Évaluation uniquement par comparaison d’embeddings.\n",
    "  * Produit scalaire (= cosinus car embeddings normalisés).\n",
    "  * Tu traces ROC, calcules AUC/EER, simules un matching avec l’algorithme Hongrois."
   ]
  },
  {
   "cell_type": "markdown",
   "id": "f9a8e09a",
   "metadata": {},
   "source": [
    "## 1) Installation (si nécessaire)\n",
    "Décommente la cellule ci-dessous si les dépendances ne sont pas installées.\n"
   ]
  },
  {
   "cell_type": "code",
   "execution_count": 22,
   "id": "b22909f3",
   "metadata": {},
   "outputs": [],
   "source": [
    "# %pip install --upgrade pip\n",
    "# %pip install insightface opencv-python numpy scipy scikit-learn networkx tqdm matplotlib pyyaml"
   ]
  },
  {
   "cell_type": "code",
   "execution_count": 23,
   "id": "2fc56995",
   "metadata": {},
   "outputs": [],
   "source": [
    "# pip install matplotlib\n",
    "# "
   ]
  },
  {
   "cell_type": "markdown",
   "id": "31286717",
   "metadata": {},
   "source": [
    "## 2) Imports & configuration\n",
    "Charge le YAML de config, prépare les dossiers, fixe la seed."
   ]
  },
  {
   "cell_type": "code",
   "execution_count": 24,
   "id": "941b6a62",
   "metadata": {},
   "outputs": [
    {
     "name": "stdout",
     "output_type": "stream",
     "text": [
      "Config: {\n",
      "  \"paths\": {\n",
      "    \"data_dir\": \"data\",\n",
      "    \"train_dir\": \"data/train\",\n",
      "    \"test_dir\": \"data/test\",\n",
      "    \"outputs_dir\": \"outputs\",\n",
      "    \"figures_dir\": \"outputs/figures\"\n",
      "  },\n",
      "  \"model\": {\n",
      "    \"insightface_name\": \"buffalo_l\",\n",
      "    \"ctx_id\": 0,\n",
      "    \"det_size\": [\n",
      "      640,\n",
      "      640\n",
      "    ]\n",
      "  },\n",
      "  \"dev_eval\": {\n",
      "    \"dev_ratio\": 0.2,\n",
      "    \"random_seed\": 42\n",
      "  },\n",
      "  \"matching\": {\n",
      "    \"solver\": \"hungarian\",\n",
      "    \"block_size\": 0,\n",
      "    \"export_filename\": \"tache1_submission.csv\"\n",
      "  },\n",
      "  \"logging\": {\n",
      "    \"verbose\": true,\n",
      "    \"save_figures\": true\n",
      "  }\n",
      "}\n"
     ]
    }
   ],
   "source": [
    "import os, glob, csv, json\n",
    "from pathlib import Path\n",
    "import numpy as np\n",
    "import cv2\n",
    "import yaml\n",
    "from tqdm import tqdm\n",
    "import matplotlib.pyplot as plt\n",
    "\n",
    "from sklearn.metrics import roc_auc_score, roc_curve\n",
    "from scipy.optimize import linear_sum_assignment\n",
    "\n",
    "# Chargement de la config\n",
    "CONFIG_PATH = Path(\"configs/config.yaml\")\n",
    "assert CONFIG_PATH.exists(), \"Fichier configs/config.yaml introuvable.\"\n",
    "config = yaml.safe_load(open(CONFIG_PATH, \"r\", encoding=\"utf-8\"))\n",
    "\n",
    "DATA_DIR   = Path(config[\"paths\"][\"data_dir\"])\n",
    "TRAIN_DIR  = Path(config[\"paths\"][\"train_dir\"])\n",
    "TEST_DIR   = Path(config[\"paths\"][\"test_dir\"])\n",
    "OUT_DIR    = Path(config[\"paths\"][\"outputs_dir\"])\n",
    "FIG_DIR    = Path(config[\"paths\"][\"figures_dir\"])\n",
    "\n",
    "MODEL_NAME = config[\"model\"][\"insightface_name\"]\n",
    "CTX_ID     = int(config[\"model\"][\"ctx_id\"])\n",
    "DET_SIZE   = tuple(config[\"model\"][\"det_size\"])\n",
    "\n",
    "DEV_RATIO  = float(config[\"dev_eval\"][\"dev_ratio\"])\n",
    "SEED       = int(config[\"dev_eval\"][\"random_seed\"])\n",
    "\n",
    "EXPORT_NAME = config[\"matching\"][\"export_filename\"]\n",
    "SAVE_FIG    = bool(config[\"logging\"][\"save_figures\"])\n",
    "\n",
    "np.random.seed(SEED)\n",
    "OUT_DIR.mkdir(parents=True, exist_ok=True)\n",
    "FIG_DIR.mkdir(parents=True, exist_ok=True)\n",
    "\n",
    "print(\"Config:\", json.dumps(config, indent=2))"
   ]
  },
  {
   "cell_type": "markdown",
   "id": "e03d9b50",
   "metadata": {},
   "source": [
    "## 3) Détecteur + extracteur d'embeddings (InsightFace)\n",
    "Utilise un backbone ArcFace pré-entraîné (`buffalo_l`). Retourne des embeddings **L2-normalisés** (512D)."
   ]
  },
  {
   "cell_type": "code",
   "execution_count": 25,
   "id": "c14f7384",
   "metadata": {},
   "outputs": [],
   "source": [
    "# %pip install numpy scipy scikit-learn matplotlib tqdm pyyaml\n",
    "# %pip install opencv-python-headless\n",
    "# %pip install \"insightface>=0.7.3\" onnxruntime-gpu"
   ]
  },
  {
   "cell_type": "code",
   "execution_count": null,
   "id": "9582eceb",
   "metadata": {},
   "outputs": [],
   "source": [
    "from insightface.app import FaceAnalysis\n",
    "\n",
    "app = FaceAnalysis(name=MODEL_NAME)\n",
    "app.prepare(ctx_id=CTX_ID, det_size=DET_SIZE)\n",
    "\n",
    "def embed_one_image(path: str):\n",
    "    \"\"\"\n",
    "    Retourne l'embedding L2-normalisé (np.ndarray (512,)) ou None si aucun visage valide.\n",
    "    \"\"\"\n",
    "    img = cv2.imread(path)\n",
    "    if img is None:\n",
    "        return None\n",
    "    img_rgb = img[:, :, ::-1]  # BGR -> RGB\n",
    "    faces = app.get(img_rgb)\n",
    "    if not faces:\n",
    "        return None\n",
    "    f = max(faces, key=lambda x: x.det_score)\n",
    "    return f.normed_embedding  # float32, déjà L2-normalisé\n"
   ]
  },
  {
   "cell_type": "code",
   "execution_count": 27,
   "id": "8a283514",
   "metadata": {},
   "outputs": [
    {
     "name": "stdout",
     "output_type": "stream",
     "text": [
      "Nb d'images dans train: 4000\n",
      "Exemple: [WindowsPath('data/train/0000_0.jpg'), WindowsPath('data/train/0000_1.jpg'), WindowsPath('data/train/0001_0.jpg')]\n",
      "Taille embedding: (512,)\n",
      "Aperçu: [ 0.05065714  0.01543739 -0.02289751  0.05876112 -0.00657007]\n"
     ]
    }
   ],
   "source": [
    "from pathlib import Path\n",
    "\n",
    "# Lister tous les fichiers du dossier train\n",
    "all_images = list(Path(TRAIN_DIR).glob(\"*.jpg\"))\n",
    "\n",
    "print(\"Nb d'images dans train:\", len(all_images))\n",
    "print(\"Exemple:\", all_images[:3])\n",
    "\n",
    "# Prendre la première image\n",
    "img_path = all_images[0]\n",
    "\n",
    "# Extraire l'embedding\n",
    "embedding = embed_one_image(str(img_path))\n",
    "print(\"Taille embedding:\", embedding.shape)\n",
    "print(\"Aperçu:\", embedding[:5])\n"
   ]
  },
  {
   "cell_type": "markdown",
   "id": "bb09416d",
   "metadata": {},
   "source": [
    "## 4) Utilitaires : lecture train, split dev, extraction embeddings\n",
    "- `read_train_pairs` lit les paires `XXXX_0`, `XXXX_1`.\n",
    "- `split_train_dev` fait un split par identités.\n",
    "- `embed_paths` calcule les embeddings d’une liste de chemins.\n"
   ]
  },
  {
   "cell_type": "code",
   "execution_count": 8,
   "id": "0304d5c5",
   "metadata": {},
   "outputs": [],
   "source": [
    "def read_train_pairs(train_dir: Path):\n",
    "    \"\"\"\n",
    "    Retourne une liste [(id_str, path0, path1), ...] pour les identités ayant exactement 2 images.\n",
    "    \"\"\"\n",
    "    exts = (\".jpg\", \".jpeg\", \".png\", \".bmp\", \".webp\")\n",
    "    files = sorted([str(p) for p in train_dir.iterdir() if p.suffix.lower() in exts])\n",
    "    by_id = {}\n",
    "    for p in files:\n",
    "        name = Path(p).stem  # e.g., 0123_0\n",
    "        if \"_\" not in name:\n",
    "            continue\n",
    "        pid = name.rsplit(\"_\", 1)[0]\n",
    "        by_id.setdefault(pid, []).append(p)\n",
    "    pairs = []\n",
    "    for pid, paths in by_id.items():\n",
    "        if len(paths) == 2:\n",
    "            p0, p1 = sorted(paths)\n",
    "            pairs.append((pid, p0, p1))\n",
    "    return pairs\n",
    "\n",
    "def split_train_dev(pairs, dev_ratio=0.2, seed=42):\n",
    "    n = len(pairs)\n",
    "    idx = np.arange(n)\n",
    "    rng = np.random.default_rng(seed)\n",
    "    rng.shuffle(idx)\n",
    "    cut = int(n * (1 - dev_ratio))\n",
    "    return [pairs[i] for i in idx[:cut]], [pairs[i] for i in idx[cut:]]\n",
    "\n",
    "def embed_paths(paths):\n",
    "    \"\"\"\n",
    "    Calcule les embeddings pour une liste de chemins d'images.\n",
    "    Retourne (embeddings_list, same_length_paths_list).\n",
    "    \"\"\"\n",
    "    E, P = [], []\n",
    "    for p in tqdm(paths, desc=\"Embeddings\"):\n",
    "        e = embed_one_image(p)\n",
    "        E.append(None if e is None else e.astype(np.float32))\n",
    "        P.append(p)\n",
    "    return E, P\n"
   ]
  },
  {
   "cell_type": "markdown",
   "id": "20e1a229",
   "metadata": {},
   "source": [
    "## 5) Évaluation sur split dev : ROC/EER + matching simulé\n",
    "Permet de **valider** que la baseline se comporte bien avant de lancer le test.\n"
   ]
  },
  {
   "cell_type": "code",
   "execution_count": 9,
   "id": "459c4c4f",
   "metadata": {},
   "outputs": [
    {
     "name": "stdout",
     "output_type": "stream",
     "text": [
      "#IDs dans train : 2000\n",
      "Split => train: 1600 | dev: 400\n"
     ]
    },
    {
     "name": "stderr",
     "output_type": "stream",
     "text": [
      "Embeddings: 100%|██████████| 800/800 [17:11<00:00,  1.29s/it]\n"
     ]
    },
    {
     "name": "stdout",
     "output_type": "stream",
     "text": [
      "AUC = 0.7595 | EER ≈ 0.3501 @ thr = 0.0383\n"
     ]
    },
    {
     "data": {
      "image/png": "[encoded data removed]",
      "text/plain": [
       "<Figure size 640x480 with 1 Axes>"
      ]
     },
     "metadata": {},
     "output_type": "display_data"
    },
    {
     "name": "stdout",
     "output_type": "stream",
     "text": [
      "Matching simulé (dev) : 381 paires, accuracy = 0.3596\n"
     ]
    }
   ],
   "source": [
    "def pair_scores_dev(dev_images, dev_labels, dev_embeddings):\n",
    "    \"\"\"\n",
    "    Construit des paires positives (même ID) et négatives (décalage simple),\n",
    "    renvoie y_true (1/0) et y_score (similarités).\n",
    "    \"\"\"\n",
    "    pos_scores, neg_scores = [], []\n",
    "    # positives: (2i, 2i+1)\n",
    "    for i in range(0, len(dev_images), 2):\n",
    "        e1, e2 = dev_embeddings[i], dev_embeddings[i+1]\n",
    "        if e1 is None or e2 is None:\n",
    "            continue\n",
    "        pos_scores.append(float(np.dot(e1, e2)))\n",
    "    # négatives: croiser avec l'identité suivante\n",
    "    for i in range(0, len(dev_images), 2):\n",
    "        j = (i + 2) % len(dev_images)\n",
    "        e1, e2 = dev_embeddings[i], dev_embeddings[j]\n",
    "        if e1 is None or e2 is None:\n",
    "            continue\n",
    "        neg_scores.append(float(np.dot(e1, e2)))\n",
    "    y_true = np.array([1]*len(pos_scores) + [0]*len(neg_scores))\n",
    "    y_score = np.array(pos_scores + neg_scores)\n",
    "    return y_true, y_score\n",
    "\n",
    "def compute_eer(fpr, tpr, thresholds):\n",
    "    fnr = 1 - tpr\n",
    "    idx = np.nanargmin(np.abs(fnr - fpr))\n",
    "    eer = (fnr[idx] + fpr[idx]) / 2\n",
    "    return eer, thresholds[idx]\n",
    "\n",
    "def simulate_matching(dev_embeddings, dev_labels):\n",
    "    \"\"\"\n",
    "    Matching parfait simulé sur le split dev, renvoie (accuracy, nb_paires, liste_indices_paires).\n",
    "    \"\"\"\n",
    "    valid_idx = [i for i, e in enumerate(dev_embeddings) if e is not None]\n",
    "    if len(valid_idx) < 2:\n",
    "        return 0.0, 0, []\n",
    "\n",
    "    E = np.stack([dev_embeddings[i] for i in valid_idx], axis=0)\n",
    "    S = E @ E.T\n",
    "    np.fill_diagonal(S, -np.inf)\n",
    "    cost = -S\n",
    "\n",
    "    row, col = linear_sum_assignment(cost)\n",
    "    used = set()\n",
    "    pairs = []\n",
    "    for r, c in zip(row, col):\n",
    "        if r != c and r not in used and c not in used:\n",
    "            pairs.append((r, c, float(S[r, c])))\n",
    "            used.add(r); used.add(c)\n",
    "\n",
    "    # accuracy: même ID ?\n",
    "    idmap = {k: dev_labels[valid_idx[k]] for k in range(len(valid_idx))}\n",
    "    correct = sum(1 for r, c, _ in pairs if idmap[r] == idmap[c])\n",
    "    acc = correct / len(pairs) if pairs else 0.0\n",
    "    return acc, len(pairs), [(valid_idx[r], valid_idx[c], s) for r, c, s in pairs]\n",
    "\n",
    "# --- pipeline dev ---\n",
    "pairs = read_train_pairs(TRAIN_DIR)\n",
    "print(f\"#IDs dans train : {len(pairs)}\")\n",
    "train_pairs, dev_pairs = split_train_dev(pairs, dev_ratio=DEV_RATIO, seed=SEED)\n",
    "print(f\"Split => train: {len(train_pairs)} | dev: {len(dev_pairs)}\")\n",
    "\n",
    "# construire le lot dev (images/labels)\n",
    "dev_images, dev_labels = [], []\n",
    "for pid, p0, p1 in dev_pairs:\n",
    "    dev_images.extend([p0, p1])\n",
    "    dev_labels.extend([pid, pid])\n",
    "\n",
    "# embeddings dev\n",
    "dev_embeddings, _ = embed_paths(dev_images)\n",
    "\n",
    "# ROC/EER\n",
    "if len(dev_images) >= 2:\n",
    "    y_true, y_score = pair_scores_dev(dev_images, dev_labels, dev_embeddings)\n",
    "    if len(np.unique(y_true)) == 2 and len(y_true) > 0:\n",
    "        auc = roc_auc_score(y_true, y_score)\n",
    "        fpr, tpr, thr = roc_curve(y_true, y_score)\n",
    "        eer, thr_eer = compute_eer(fpr, tpr, thr)\n",
    "        print(f\"AUC = {auc:.4f} | EER ≈ {eer:.4f} @ thr = {thr_eer:.4f}\")\n",
    "        plt.figure()\n",
    "        plt.plot(fpr, tpr, label=f\"ROC (AUC={auc:.3f})\")\n",
    "        plt.plot([0, 1], [0, 1], \"--\")\n",
    "        plt.xlabel(\"FPR\"); plt.ylabel(\"TPR\"); plt.legend(); plt.title(\"ROC (dev)\")\n",
    "        if SAVE_FIG:\n",
    "            Path(FIG_DIR).mkdir(parents=True, exist_ok=True)\n",
    "            plt.savefig(Path(FIG_DIR) / \"roc_dev.png\", bbox_inches=\"tight\", dpi=120)\n",
    "        plt.show()\n",
    "    else:\n",
    "        print(\"Je ne peux pas tracer la ROC (pas assez de paires valides).\")\n",
    "\n",
    "# Matching simulé sur dev\n",
    "acc, n_pairs, _pairs_idx = simulate_matching(dev_embeddings, dev_labels)\n",
    "print(f\"Matching simulé (dev) : {n_pairs} paires, accuracy = {acc:.4f}\")\n"
   ]
  },
  {
   "cell_type": "code",
   "execution_count": 11,
   "id": "6276e68c",
   "metadata": {},
   "outputs": [
    {
     "name": "stdout",
     "output_type": "stream",
     "text": [
      "\n",
      "=== Évaluation binaire @ seuil EER ===\n",
      "Accuracy  : 0.6499\n",
      "Précision : 0.6475\n",
      "Rappel    : 0.6524\n",
      "F1-score  : 0.6499\n"
     ]
    }
   ],
   "source": [
    "from sklearn.metrics import precision_recall_fscore_support, accuracy_score\n",
    "\n",
    "# Choix d’un seuil (ici celui trouvé à l’EER, mais tu peux en tester d’autres)\n",
    "y_pred = (y_score >= thr_eer).astype(int)\n",
    "\n",
    "# Calcul des métriques\n",
    "precision, recall, f1, _ = precision_recall_fscore_support(y_true, y_pred, average=\"binary\")\n",
    "acc = accuracy_score(y_true, y_pred)\n",
    "\n",
    "print(\"\\n=== Évaluation binaire @ seuil EER ===\")\n",
    "print(f\"Accuracy  : {acc:.4f}\")\n",
    "print(f\"Précision : {precision:.4f}\")\n",
    "print(f\"Rappel    : {recall:.4f}\")\n",
    "print(f\"F1-score  : {f1:.4f}\")\n"
   ]
  },
  {
   "cell_type": "code",
   "execution_count": 12,
   "id": "27745c6c",
   "metadata": {},
   "outputs": [
    {
     "data": {
      "image/png": "[encoded data removed]",
      "text/plain": [
       "<Figure size 800x500 with 1 Axes>"
      ]
     },
     "metadata": {},
     "output_type": "display_data"
    }
   ],
   "source": [
    "import matplotlib.pyplot as plt\n",
    "\n",
    "def plot_score_histograms(y_true, y_score, bins=50):\n",
    "    \"\"\"\n",
    "    Trace les histogrammes des scores pour paires positives et négatives.\n",
    "    \"\"\"\n",
    "    pos_scores = y_score[y_true == 1]\n",
    "    neg_scores = y_score[y_true == 0]\n",
    "\n",
    "    plt.figure(figsize=(8,5))\n",
    "    plt.hist(pos_scores, bins=bins, alpha=0.6, color=\"green\", label=\"Positifs (même personne)\")\n",
    "    plt.hist(neg_scores, bins=bins, alpha=0.6, color=\"red\", label=\"Négatifs (personnes différentes)\")\n",
    "    plt.axvline(0.0, color=\"black\", linestyle=\"--\", linewidth=1)\n",
    "    plt.xlabel(\"Score (cosinus entre embeddings)\")\n",
    "    plt.ylabel(\"Nombre de paires\")\n",
    "    plt.title(\"Distribution des similarités sur dev\")\n",
    "    plt.legend()\n",
    "    plt.grid(True, linestyle=\"--\", alpha=0.5)\n",
    "    plt.show()\n",
    "\n",
    "# --- Exemple d'utilisation après ton calcul ---\n",
    "y_true, y_score = pair_scores_dev(dev_images, dev_labels, dev_embeddings)\n",
    "plot_score_histograms(y_true, y_score)\n"
   ]
  },
  {
   "cell_type": "code",
   "execution_count": 13,
   "id": "b2efde53",
   "metadata": {},
   "outputs": [
    {
     "name": "stdout",
     "output_type": "stream",
     "text": [
      "\n",
      "=== Seuil optimisé pour F1 ===\n",
      "Seuil optimal : -0.0282\n",
      "Précision     : 0.5550\n",
      "Rappel        : 0.9144\n",
      "F1-score      : 0.6908\n"
     ]
    }
   ],
   "source": [
    "from sklearn.metrics import precision_recall_fscore_support\n",
    "\n",
    "def best_f1_threshold(y_true, y_score, num_thresholds=200):\n",
    "    \"\"\"\n",
    "    Cherche le seuil qui maximise le F1-score.\n",
    "    Explore num_thresholds valeurs entre min(y_score) et max(y_score).\n",
    "    \"\"\"\n",
    "    thresholds = np.linspace(y_score.min(), y_score.max(), num_thresholds)\n",
    "    best_thr, best_f1 = None, -1\n",
    "    best_prec, best_rec = None, None\n",
    "\n",
    "    for thr in thresholds:\n",
    "        y_pred = (y_score >= thr).astype(int)\n",
    "        prec, rec, f1, _ = precision_recall_fscore_support(\n",
    "            y_true, y_pred, average=\"binary\", zero_division=0\n",
    "        )\n",
    "        if f1 > best_f1:\n",
    "            best_f1 = f1\n",
    "            best_thr = thr\n",
    "            best_prec, best_rec = prec, rec\n",
    "\n",
    "    return best_thr, best_f1, best_prec, best_rec\n",
    "\n",
    "# --- Exemple d’utilisation ---\n",
    "y_true, y_score = pair_scores_dev(dev_images, dev_labels, dev_embeddings)\n",
    "\n",
    "thr_f1, f1, prec, rec = best_f1_threshold(y_true, y_score)\n",
    "print(\"\\n=== Seuil optimisé pour F1 ===\")\n",
    "print(f\"Seuil optimal : {thr_f1:.4f}\")\n",
    "print(f\"Précision     : {prec:.4f}\")\n",
    "print(f\"Rappel        : {rec:.4f}\")\n",
    "print(f\"F1-score      : {f1:.4f}\")\n"
   ]
  },
  {
   "cell_type": "markdown",
   "id": "4e056577",
   "metadata": {},
   "source": [
    "## 6) Inférence sur **test** + matching 1-à-1 + export CSV\n",
    "Produit `outputs/tache1_submission.csv` au format :\n",
    "\n",
    "image_A,image_B,similarity\n",
    "\n",
    "imgA.jpg,imgB.jpg,0.812534"
   ]
  },
  {
   "cell_type": "code",
   "execution_count": null,
   "id": "50180c9a",
   "metadata": {},
   "outputs": [],
   "source": [
    "# Lister les images test\n",
    "exts = (\".jpg\", \".jpeg\", \".png\", \".bmp\", \".webp\")\n",
    "test_paths = sorted([str(p) for p in Path(TEST_DIR).iterdir() if p.suffix.lower() in exts])\n",
    "print(\"#images test :\", len(test_paths))\n",
    "assert len(test_paths) > 0, \"Aucune image dans data/test.\"\n",
    "\n",
    "# Embeddings test\n",
    "test_embeddings, kept_paths = embed_paths(test_paths)\n",
    "\n",
    "# Indices valides (visage détecté)\n",
    "valid_idx = [i for i, e in enumerate(test_embeddings) if e is not None]\n",
    "print(\"#images test valides (visage détecté) :\", len(valid_idx))\n",
    "if len(valid_idx) < 2:\n",
    "    raise RuntimeError(\"Trop peu d'images test détectées. Augmente DET_SIZE ou mets ctx_id=-1 pour CPU.\")\n",
    "\n",
    "# Doit être pair pour appariement parfait\n",
    "if len(valid_idx) % 2 == 1:\n",
    "    print(\"⚠️ Nombre impair d'images valides : une image sera ignorée (score le plus faible au voisinage).\")\n",
    "    # on supprime l'indice avec la plus faible somme de similarité brute (approx)\n",
    "    # calcule E provisoire\n",
    "    E_tmp = np.stack([test_embeddings[i] for i in valid_idx], axis=0)\n",
    "    S_tmp = E_tmp @ E_tmp.T\n",
    "    np.fill_diagonal(S_tmp, 0.0)\n",
    "    sums = S_tmp.sum(axis=1)\n",
    "    drop_local = int(np.argmin(sums))\n",
    "    drop_global = valid_idx[drop_local]\n",
    "    valid_idx = [i for i in valid_idx if i != drop_global]\n",
    "\n",
    "# Matrice de similarité\n",
    "E = np.stack([test_embeddings[i] for i in valid_idx], axis=0)\n",
    "S = E @ E.T\n",
    "np.fill_diagonal(S, -np.inf)\n",
    "cost = -S\n",
    "\n",
    "# Hungarian\n",
    "row, col = linear_sum_assignment(cost)\n",
    "used = set()\n",
    "pairs = []\n",
    "for r, c in zip(row, col):\n",
    "    if r != c and r not in used and c not in used:\n",
    "        pairs.append((r, c, float(S[r, c])))\n",
    "        used.add(r); used.add(c)\n",
    "\n",
    "# Export CSV\n",
    "export_path = Path(OUT_DIR) / EXPORT_NAME\n",
    "export_path.parent.mkdir(parents=True, exist_ok=True)\n",
    "with open(export_path, \"w\", newline=\"\", encoding=\"utf-8\") as f:\n",
    "    w = csv.writer(f)\n",
    "    w.writerow([\"image_A\", \"image_B\", \"similarity\"])\n",
    "    for r, c, s in pairs:\n",
    "        a = Path(kept_paths[valid_idx[r]]).name\n",
    "        b = Path(kept_paths[valid_idx[c]]).name\n",
    "        w.writerow([a, b, f\"{s:.6f}\"])\n",
    "\n",
    "print(\"✅ CSV écrit :\", export_path)\n"
   ]
  }
 ],
 "metadata": {
  "kernelspec": {
   "display_name": "Python 3",
   "language": "python",
   "name": "python3"
  },
  "language_info": {
   "codemirror_mode": {
    "name": "ipython",
    "version": 3
   },
   "file_extension": ".py",
   "mimetype": "text/x-python",
   "name": "python",
   "nbconvert_exporter": "python",
   "pygments_lexer": "ipython3",
   "version": "3.12.6"
  }
 },
 "nbformat": 4,
 "nbformat_minor": 5
}
